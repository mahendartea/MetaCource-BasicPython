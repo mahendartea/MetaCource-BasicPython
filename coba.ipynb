{
 "cells": [
  {
   "cell_type": "code",
   "execution_count": 1,
   "id": "5f9c5cadf6db9778",
   "metadata": {
    "ExecuteTime": {
     "end_time": "2024-05-22T11:21:41.911432Z",
     "start_time": "2024-05-22T11:21:41.906370Z"
    }
   },
   "outputs": [],
   "source": [
    "m = 10"
   ]
  },
  {
   "cell_type": "code",
   "execution_count": 2,
   "id": "173e9508666e3f5c",
   "metadata": {
    "ExecuteTime": {
     "end_time": "2024-05-22T11:21:44.893412Z",
     "start_time": "2024-05-22T11:21:44.890090Z"
    }
   },
   "outputs": [
    {
     "name": "stdout",
     "output_type": "stream",
     "text": [
      "10\n"
     ]
    }
   ],
   "source": [
    "print(m)"
   ]
  },
  {
   "cell_type": "code",
   "execution_count": 3,
   "id": "64a89b7d90288f7f",
   "metadata": {
    "ExecuteTime": {
     "end_time": "2024-05-22T11:21:48.039096Z",
     "start_time": "2024-05-22T11:21:47.750833Z"
    }
   },
   "outputs": [],
   "source": [
    "import numpy as np"
   ]
  },
  {
   "cell_type": "code",
   "execution_count": 8,
   "id": "f539abbc6f841459",
   "metadata": {
    "ExecuteTime": {
     "end_time": "2024-05-14T13:16:28.758873Z",
     "start_time": "2024-05-14T13:16:28.753008Z"
    }
   },
   "outputs": [],
   "source": [
    "np.random.seed(10)"
   ]
  },
  {
   "cell_type": "code",
   "execution_count": 10,
   "id": "d63c2fce296feb6f",
   "metadata": {
    "ExecuteTime": {
     "end_time": "2024-05-14T13:17:33.803151Z",
     "start_time": "2024-05-14T13:17:33.798091Z"
    }
   },
   "outputs": [
    {
     "name": "stdout",
     "output_type": "stream",
     "text": [
      "[0.68535982 0.95339335 0.00394827 0.51219226 0.81262096 0.61252607\n",
      " 0.72175532 0.29187607 0.91777412 0.71457578]\n"
     ]
    }
   ],
   "source": [
    "print(np.random.random((10)))"
   ]
  },
  {
   "cell_type": "code",
   "execution_count": 11,
   "id": "d52f26d8747a70c6",
   "metadata": {
    "ExecuteTime": {
     "end_time": "2024-05-14T13:17:59.599158Z",
     "start_time": "2024-05-14T13:17:59.593824Z"
    }
   },
   "outputs": [
    {
     "name": "stdout",
     "output_type": "stream",
     "text": [
      "[0.54254437 0.14217005 0.37334076 0.67413362 0.44183317 0.43401399\n",
      " 0.61776698 0.51313824 0.65039718 0.60103895]\n"
     ]
    }
   ],
   "source": [
    "\"\"\"\n",
    "Generates a 1D NumPy array of 10 random floating-point numbers between 0 and 1.\n",
    "\"\"\"\n",
    "acak = np.random.random((10))\n",
    "print(acak)"
   ]
  },
  {
   "cell_type": "code",
   "execution_count": 1,
   "id": "9b7801844e3e7ddd",
   "metadata": {
    "ExecuteTime": {
     "end_time": "2024-05-14T13:21:12.404073Z",
     "start_time": "2024-05-14T13:21:12.396635Z"
    }
   },
   "outputs": [
    {
     "name": "stdout",
     "output_type": "stream",
     "text": [
      "Hai saya tidak dapat menulis\n"
     ]
    }
   ],
   "source": [
    "print(\"Hai saya tidak dapat menulis\")"
   ]
  },
  {
   "cell_type": "code",
   "execution_count": null,
   "id": "464a6728a0544b0c",
   "metadata": {},
   "outputs": [],
   "source": []
  },
  {
   "cell_type": "code",
   "execution_count": null,
   "id": "7c14b8d14a542691",
   "metadata": {},
   "outputs": [],
   "source": []
  }
 ],
 "metadata": {
  "kernelspec": {
   "display_name": "Python 3",
   "language": "python",
   "name": "python3"
  },
  "language_info": {
   "codemirror_mode": {
    "name": "ipython",
    "version": 2
   },
   "file_extension": ".py",
   "mimetype": "text/x-python",
   "name": "python",
   "nbconvert_exporter": "python",
   "pygments_lexer": "ipython2",
   "version": "2.7.6"
  }
 },
 "nbformat": 4,
 "nbformat_minor": 5
}
