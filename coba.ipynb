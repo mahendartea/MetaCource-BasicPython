{
 "cells": [
  {
   "metadata": {
    "ExecuteTime": {
     "end_time": "2024-05-14T13:14:39.325458Z",
     "start_time": "2024-05-14T13:14:39.319249Z"
    }
   },
   "cell_type": "code",
   "source": "m = 10",
   "id": "5f9c5cadf6db9778",
   "outputs": [],
   "execution_count": 1
  },
  {
   "metadata": {
    "ExecuteTime": {
     "end_time": "2024-05-14T13:14:51.935395Z",
     "start_time": "2024-05-14T13:14:51.915746Z"
    }
   },
   "cell_type": "code",
   "source": "print(m)",
   "id": "173e9508666e3f5c",
   "outputs": [
    {
     "name": "stdout",
     "output_type": "stream",
     "text": [
      "10\n"
     ]
    }
   ],
   "execution_count": 2
  },
  {
   "metadata": {
    "ExecuteTime": {
     "end_time": "2024-05-14T13:15:44.758704Z",
     "start_time": "2024-05-14T13:15:36.377768Z"
    }
   },
   "cell_type": "code",
   "source": "import numpy as np",
   "id": "64a89b7d90288f7f",
   "outputs": [],
   "execution_count": 3
  },
  {
   "metadata": {
    "ExecuteTime": {
     "end_time": "2024-05-14T13:16:28.758873Z",
     "start_time": "2024-05-14T13:16:28.753008Z"
    }
   },
   "cell_type": "code",
   "source": "np.random.seed(10)",
   "id": "f539abbc6f841459",
   "outputs": [],
   "execution_count": 8
  },
  {
   "metadata": {
    "ExecuteTime": {
     "end_time": "2024-05-14T13:17:33.803151Z",
     "start_time": "2024-05-14T13:17:33.798091Z"
    }
   },
   "cell_type": "code",
   "source": "print(np.random.random((10)))",
   "id": "d63c2fce296feb6f",
   "outputs": [
    {
     "name": "stdout",
     "output_type": "stream",
     "text": [
      "[0.68535982 0.95339335 0.00394827 0.51219226 0.81262096 0.61252607\n",
      " 0.72175532 0.29187607 0.91777412 0.71457578]\n"
     ]
    }
   ],
   "execution_count": 10
  },
  {
   "metadata": {
    "ExecuteTime": {
     "end_time": "2024-05-14T13:17:59.599158Z",
     "start_time": "2024-05-14T13:17:59.593824Z"
    }
   },
   "cell_type": "code",
   "source": [
    "acak = np.random.random((10))\n",
    "print(acak)"
   ],
   "id": "d52f26d8747a70c6",
   "outputs": [
    {
     "name": "stdout",
     "output_type": "stream",
     "text": [
      "[0.54254437 0.14217005 0.37334076 0.67413362 0.44183317 0.43401399\n",
      " 0.61776698 0.51313824 0.65039718 0.60103895]\n"
     ]
    }
   ],
   "execution_count": 11
  },
  {
   "metadata": {
    "ExecuteTime": {
     "end_time": "2024-05-14T13:21:12.404073Z",
     "start_time": "2024-05-14T13:21:12.396635Z"
    }
   },
   "cell_type": "code",
   "source": "print(\"Hai saya tidak dapat menulis\")",
   "id": "9b7801844e3e7ddd",
   "outputs": [
    {
     "name": "stdout",
     "output_type": "stream",
     "text": [
      "Hai saya tidak dapat menulis\n"
     ]
    }
   ],
   "execution_count": 1
  },
  {
   "metadata": {},
   "cell_type": "code",
   "outputs": [],
   "execution_count": null,
   "source": "",
   "id": "7c14b8d14a542691"
  }
 ],
 "metadata": {
  "kernelspec": {
   "display_name": "Python 3",
   "language": "python",
   "name": "python3"
  },
  "language_info": {
   "codemirror_mode": {
    "name": "ipython",
    "version": 2
   },
   "file_extension": ".py",
   "mimetype": "text/x-python",
   "name": "python",
   "nbconvert_exporter": "python",
   "pygments_lexer": "ipython2",
   "version": "2.7.6"
  }
 },
 "nbformat": 4,
 "nbformat_minor": 5
}
